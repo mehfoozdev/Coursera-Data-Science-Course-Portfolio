{
 "cells": [
  {
   "cell_type": "markdown",
   "id": "cd1db493-2ed2-4ed0-9f7d-28c83f207331",
   "metadata": {},
   "source": [
    "## Data Science Tools and Ecosystem\n",
    "In this notebook, Data Science Tools and Ecosystem are summarized.\n",
    "\n",
    "Some of the popular languages that Data Scientists use are:\n",
    "1. Python\n",
    "2. R\n",
    "3. SQL\n",
    "4. C++"
   ]
  },
  {
   "cell_type": "markdown",
   "id": "bc5ed749-1899-45e0-8864-de1760fbee9a",
   "metadata": {},
   "source": [
    "Some of the commonly used libraries used by Data Scientists include:\n",
    "1. TensorFlow\n",
    "2. NumPy\n",
    "3. SciPy\n",
    "4. Pandas\n",
    "5. Matplotlib\n",
    "6. Keras\n",
    "7. Scikit-Learn\n",
    "8. Pytorch\n",
    "9. Seaborn etc.\n"
   ]
  },
  {
   "cell_type": "markdown",
   "id": "b39105d8-ae4c-485b-8bb3-c109eb6e99a1",
   "metadata": {},
   "source": [
    "|Data Science Tools|\n",
    "|---|\n",
    "|SAS|\n",
    "|Apache Hadoop|\n",
    "|TesnforFlow|"
   ]
  },
  {
   "cell_type": "markdown",
   "id": "b686c411-a1b8-4501-b324-34188d20404c",
   "metadata": {},
   "source": [
    "### Below are a few examples of evaluating arithmetic expressions in Python\n"
   ]
  },
  {
   "cell_type": "code",
   "execution_count": 2,
   "id": "d7715de0-29a3-42ce-94c6-4e3fbc799dde",
   "metadata": {},
   "outputs": [
    {
     "data": {
      "text/plain": [
       "17"
      ]
     },
     "execution_count": 2,
     "metadata": {},
     "output_type": "execute_result"
    }
   ],
   "source": [
    "#This a simple arithmetic expression to mutiply then add integers\n",
    "(3*4)+5"
   ]
  },
  {
   "cell_type": "code",
   "execution_count": 3,
   "id": "43dc7943-aa02-45b1-9775-ca6a60292f86",
   "metadata": {},
   "outputs": [
    {
     "data": {
      "text/plain": [
       "3.3333333333333335"
      ]
     },
     "execution_count": 3,
     "metadata": {},
     "output_type": "execute_result"
    }
   ],
   "source": [
    "# This will convert 200 minutes to hours by diving by 60\n",
    "200/60"
   ]
  },
  {
   "cell_type": "markdown",
   "id": "1c290c0a-91e8-4b82-b8df-0d73fd50be84",
   "metadata": {},
   "source": [
    "__Objectives__\n",
    "- List popular languages for Data Science\n",
    "- Identify common data science libraries\n",
    "- Summarize data science tools\n",
    "- Demonstrate basic arithmetic operations in Python"
   ]
  },
  {
   "cell_type": "markdown",
   "id": "e1baa7f0-707c-4eb1-a7aa-1da7781e569c",
   "metadata": {},
   "source": [
    "## Author\n",
    "Mehfooz Ali"
   ]
  },
  {
   "cell_type": "code",
   "execution_count": null,
   "id": "42f2a91d-fdc2-4179-945f-a3567dee2b3f",
   "metadata": {},
   "outputs": [],
   "source": []
  }
 ],
 "metadata": {
  "kernelspec": {
   "display_name": "Python [conda env:base] *",
   "language": "python",
   "name": "conda-base-py"
  },
  "language_info": {
   "codemirror_mode": {
    "name": "ipython",
    "version": 3
   },
   "file_extension": ".py",
   "mimetype": "text/x-python",
   "name": "python",
   "nbconvert_exporter": "python",
   "pygments_lexer": "ipython3",
   "version": "3.12.7"
  }
 },
 "nbformat": 4,
 "nbformat_minor": 5
}
